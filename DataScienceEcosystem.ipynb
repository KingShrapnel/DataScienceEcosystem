{
 "cells": [
  {
   "cell_type": "markdown",
   "id": "26b731fd-7f1d-483d-a194-65addd15cceb",
   "metadata": {},
   "source": [
    "# Data Science Tools and Ecosystem "
   ]
  },
  {
   "cell_type": "markdown",
   "id": "42001393-1314-46dc-b25b-e874ec239c24",
   "metadata": {},
   "source": [
    "###### In this notebook, Data Science Tools and Ecosystem are summarised."
   ]
  },
  {
   "cell_type": "markdown",
   "id": "1bcea8db-9626-43ac-98b8-9563aa667204",
   "metadata": {},
   "source": [
    "## __Objectives:__\n",
    "- List popular languages for Data Science \n",
    "- List common Data Science libraries\n",
    "- Table of Data Science Tools \n",
    "- Examples of simple arithmetic expressions in Python\n",
    "- Example of multiplication of integers\n",
    "- Example of conversion of minutes into hours\n"
   ]
  },
  {
   "cell_type": "markdown",
   "id": "442eb700-97c7-4f4c-9b8a-3729c4ec4aae",
   "metadata": {},
   "source": [
    "## Author: Kudzai Chisango"
   ]
  },
  {
   "cell_type": "markdown",
   "id": "3c7723ed-8cd3-4b12-a43d-db3e46f5a699",
   "metadata": {},
   "source": [
    "###### Some of the popular languages that Data Scientists use are: \n",
    "######  1. Python \n",
    "######  2. R \n",
    "######  3. SQL \n",
    "######  4. Java \n",
    "######  5. C++ \n",
    "######  6. Julia\n"
   ]
  },
  {
   "cell_type": "markdown",
   "id": "0e1ff724-22a5-48b6-9e91-58c6cba7173b",
   "metadata": {},
   "source": [
    "###### Some of the commonly used data science libraries include:\n",
    "###### 1. Matplotlib\n",
    "###### 2. TensorFlow \n",
    "###### 3. NumPy \n",
    "###### 4. SciPy\n",
    "###### 5. SciKit-Learn\n",
    "###### 6. Plotly \n",
    "###### 7. ggplot2\n",
    "###### 8. Pandas\n",
    "###### 9. Keras\n",
    "###### 10. Seaborn"
   ]
  },
  {
   "cell_type": "markdown",
   "id": "a219cfe3-a458-4b41-99e8-81d75d9e5745",
   "metadata": {},
   "source": [
    "|Data Science Tools|\n",
    "|---|\n",
    "|Spyder|\n",
    "|JupyterLab|\n",
    "|RStudio|\n",
    "|VisualStudio|\n",
    "|GoogleColab|\n"
   ]
  },
  {
   "cell_type": "markdown",
   "id": "be6d1cfd-6cb3-4ce9-b407-c6068a6d77cb",
   "metadata": {},
   "source": [
    "### Below are a few examples of evaluating arithmetic expressions in Python"
   ]
  },
  {
   "cell_type": "code",
   "execution_count": 3,
   "id": "c25529f5-e11a-4054-bd1c-d6cd6c9d5abf",
   "metadata": {
    "tags": []
   },
   "outputs": [
    {
     "data": {
      "text/plain": [
       "2"
      ]
     },
     "execution_count": 3,
     "metadata": {},
     "output_type": "execute_result"
    }
   ],
   "source": [
    "1+1"
   ]
  },
  {
   "cell_type": "code",
   "execution_count": 4,
   "id": "37d403f9-d48b-4414-ad2e-7f1fa27f6a9d",
   "metadata": {
    "tags": []
   },
   "outputs": [
    {
     "data": {
      "text/plain": [
       "1"
      ]
     },
     "execution_count": 4,
     "metadata": {},
     "output_type": "execute_result"
    }
   ],
   "source": [
    "2-1"
   ]
  },
  {
   "cell_type": "code",
   "execution_count": 5,
   "id": "ea7c66c1-25ca-4ab7-aad3-a1c5b6bb7e61",
   "metadata": {
    "tags": []
   },
   "outputs": [
    {
     "data": {
      "text/plain": [
       "6"
      ]
     },
     "execution_count": 5,
     "metadata": {},
     "output_type": "execute_result"
    }
   ],
   "source": [
    "3*2"
   ]
  },
  {
   "cell_type": "code",
   "execution_count": 6,
   "id": "c0732ea0-a105-483d-bd95-1a48497ab9d6",
   "metadata": {
    "tags": []
   },
   "outputs": [
    {
     "data": {
      "text/plain": [
       "2.0"
      ]
     },
     "execution_count": 6,
     "metadata": {},
     "output_type": "execute_result"
    }
   ],
   "source": [
    "4/2"
   ]
  },
  {
   "cell_type": "markdown",
   "id": "2f409d16-6ced-41a7-994b-52f457e36e85",
   "metadata": {},
   "source": [
    "### This is a simple arithmetic expression to multiply integers"
   ]
  },
  {
   "cell_type": "code",
   "execution_count": 7,
   "id": "49b07a6f-6a50-4567-841d-4fd2a8fb573f",
   "metadata": {
    "tags": []
   },
   "outputs": [
    {
     "data": {
      "text/plain": [
       "17"
      ]
     },
     "execution_count": 7,
     "metadata": {},
     "output_type": "execute_result"
    }
   ],
   "source": [
    "(3*4)+5"
   ]
  },
  {
   "cell_type": "markdown",
   "id": "21fd2252-3310-4a34-81be-732b95423f6e",
   "metadata": {},
   "source": [
    "### This will convert 200 minutes to hours by dividing by 60"
   ]
  },
  {
   "cell_type": "code",
   "execution_count": 8,
   "id": "11286a99-78ea-4444-b921-8f2a5de40292",
   "metadata": {
    "tags": []
   },
   "outputs": [
    {
     "data": {
      "text/plain": [
       "3.3333333333333335"
      ]
     },
     "execution_count": 8,
     "metadata": {},
     "output_type": "execute_result"
    }
   ],
   "source": [
    "200/60"
   ]
  },
  {
   "cell_type": "code",
   "execution_count": null,
   "id": "78ade4e7-577c-4870-80a6-3c81bd1acedc",
   "metadata": {},
   "outputs": [],
   "source": []
  }
 ],
 "metadata": {
  "kernelspec": {
   "display_name": "Python 3 (ipykernel)",
   "language": "python",
   "name": "python3"
  },
  "language_info": {
   "codemirror_mode": {
    "name": "ipython",
    "version": 3
   },
   "file_extension": ".py",
   "mimetype": "text/x-python",
   "name": "python",
   "nbconvert_exporter": "python",
   "pygments_lexer": "ipython3",
   "version": "3.11.5"
  }
 },
 "nbformat": 4,
 "nbformat_minor": 5
}
